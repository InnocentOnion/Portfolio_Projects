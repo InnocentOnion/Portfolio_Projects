{
 "cells": [
  {
   "cell_type": "markdown",
   "metadata": {},
   "source": [
    "# U.S. Medical Insurance Costs"
   ]
  },
  {
   "cell_type": "markdown",
   "metadata": {},
   "source": [
    "In this file I will analyze a dataset of medical insurance data, to gain insights into patient characteristics and their effect on charges. "
   ]
  },
  {
   "cell_type": "code",
   "execution_count": 5,
   "metadata": {},
   "outputs": [],
   "source": [
    "import csv"
   ]
  },
  {
   "cell_type": "code",
   "execution_count": 6,
   "metadata": {},
   "outputs": [],
   "source": [
    "ages = []\n",
    "sexes = []\n",
    "bmis = []\n",
    "children = []\n",
    "smoker_status = []\n",
    "regions =[]\n",
    "charges = []"
   ]
  },
  {
   "cell_type": "markdown",
   "metadata": {},
   "source": [
    "Writing a function to neatly and efficiently import the data."
   ]
  },
  {
   "cell_type": "code",
   "execution_count": 7,
   "metadata": {},
   "outputs": [],
   "source": [
    "#write a function to load data from csv into lists\n",
    "def load_csv_data(csv_file, lst, column_name):\n",
    "    with open(csv_file) as data:\n",
    "        data_dict = csv.DictReader(data)\n",
    "        for row in data_dict:\n",
    "            lst.append(row[column_name])\n",
    "    return lst"
   ]
  },
  {
   "cell_type": "markdown",
   "metadata": {},
   "source": [
    "Load the data into lists."
   ]
  },
  {
   "cell_type": "code",
   "execution_count": 8,
   "metadata": {},
   "outputs": [
    {
     "name": "stdout",
     "output_type": "stream",
     "text": [
      "\n"
     ]
    }
   ],
   "source": [
    "load_csv_data(\"insurance.csv\", ages, \"age\")\n",
    "load_csv_data(\"insurance.csv\", sexes, \"sex\")\n",
    "load_csv_data(\"insurance.csv\", bmis, \"bmi\")\n",
    "load_csv_data(\"insurance.csv\", children, \"children\")\n",
    "load_csv_data(\"insurance.csv\", smoker_status, \"smoker\")\n",
    "load_csv_data(\"insurance.csv\", regions, \"region\")\n",
    "load_csv_data(\"insurance.csv\", charges, \"charges\")\n",
    "print(\"\")"
   ]
  },
  {
   "cell_type": "markdown",
   "metadata": {},
   "source": [
    "Define a class and class methods to analyze the data."
   ]
  },
  {
   "cell_type": "code",
   "execution_count": 19,
   "metadata": {},
   "outputs": [],
   "source": [
    "#Define a class to analyze the patient data\n",
    "class patient_data:\n",
    "    \n",
    "    def __init__(self, patient_ages, patient_sexes, patient_bmis, patient_children, patient_smoker_statuses, patient_regions, patient_charges):\n",
    "        self.patient_ages = patient_ages\n",
    "        self.patient_sexes = patient_sexes\n",
    "        self.patient_bmis = patient_bmis\n",
    "        self.patient_children = patient_children\n",
    "        self.patient_smoker = patient_smoker_statuses\n",
    "        self.patient_region = patient_regions\n",
    "        self.patient_charges = patient_charges\n",
    "    \n",
    "    def average_age(self):\n",
    "        age_sum = 0\n",
    "        for age in self.patient_ages:\n",
    "            age_sum += int(age)\n",
    "        avg_age = round(age_sum/len(self.patient_ages))\n",
    "        return \"The average age in the sample of patient data is {age} years.\".format(age = avg_age)\n",
    "    \n",
    "    def average_charge(self): \n",
    "        charge_sum\n",
    "        for charge in self.patient_charges:\n",
    "            charge_sum += charge\n",
    "        avg_charge = charge_sum/len(self.patient_charges)\n",
    "        return \"In the sample, the average charge is ${avg}\".format(avg = avg_charge)\n",
    "    \n",
    "    def analyze_sexes(self):\n",
    "        men_count = 0\n",
    "        charges_m = 0\n",
    "        women_count = 0\n",
    "        charges_f = 0\n",
    "        j = 0\n",
    "        for sex in self.patient_sexes:\n",
    "            if sex == \"male\":\n",
    "                men_count +=1\n",
    "                charges_m += float(self.patient_charges[j])\n",
    "            else: \n",
    "                women_count += 1\n",
    "                charges_f += float(self.patient_charges[j])\n",
    "            j += 1\n",
    "        men_share = round((men_count/len(self.patient_sexes))*100)\n",
    "        women_share = round((women_count/len(self.patient_sexes))*100)\n",
    "        avg_m_charge= round(charges_m/men_count)\n",
    "        avg_f_charge= round(charges_f/women_count)\n",
    "        return \"In the sample of patient data, {men_share}% of the patients are male and {women_share}% of the patients are female. The average charge for men is ${avg_m_charge}, for women it is ${avg_f_charge}\".format(men_share = men_share, women_share = women_share, avg_m_charge = avg_m_charge, avg_f_charge = avg_f_charge)\n",
    "    \n",
    "    def analyze_regions(self):\n",
    "        num_unique = len(set(self.patient_region))\n",
    "        unique_regions = set(self.patient_region)\n",
    "        #find most frequent region\n",
    "        regions_dict = {}\n",
    "        for region in unique_regions: \n",
    "            regions_dict[region] = 1\n",
    "       \n",
    "    \n",
    "        for reg in self.patient_region: \n",
    "            regions_dict[reg] += 1\n",
    "        most_frequent_reg = \"\"\n",
    "        most_frequent_count = 1\n",
    "        for region in regions_dict:\n",
    "            if regions_dict[region] > most_frequent_count:\n",
    "                most_frequent_count = regions_dict[region]\n",
    "                most_frequent_reg = region\n",
    "        \n",
    "        return \"Patients in the sample come from {num_unique} regions: {unique_regions}. Most patients come from {most_frequent} ({count}).\".format(num_unique = num_unique, unique_regions = unique_regions, most_frequent = most_frequent_reg, count = most_frequent_count)\n",
    "        \n",
    "        \n",
    "    \n",
    "    def analyze_smoker(self):\n",
    "        smoker_count = 0\n",
    "        non_smoker = 0 \n",
    "        smoker_charges = 0\n",
    "        non_smoker_charges = 0\n",
    "        i = 0\n",
    "        for smoker in self.patient_smoker:\n",
    "            if smoker == \"yes\":\n",
    "                smoker_count +=1\n",
    "                smoker_charges += float(self.patient_charges[i])\n",
    "            elif smoker == \"no\":\n",
    "                non_smoker +=1\n",
    "                non_smoker_charges += float(self.patient_charges[i])\n",
    "            i += 1\n",
    "        \n",
    "        avg_s_charge= round(smoker_charges/smoker_count)\n",
    "        avg_non_charge = round(non_smoker_charges/non_smoker)\n",
    "        share_smoker = round((smoker_count/len(self.patient_smoker))*100)\n",
    "        share_non_smoker = round((non_smoker/len(self.patient_smoker))*100)\n",
    "        return \"In the sample {share_smoker}% of the patients smoke, and {share_non_smoker}% do not smoke. The average charge for a smoker in the sample is ${a} and the average charge for a non-smoker is ${b}.\".format(share_smoker = share_smoker, share_non_smoker = share_non_smoker, a = avg_s_charge, b = avg_non_charge)\n",
    "    \n",
    "    def create_dictionary(self):\n",
    "        self.patients_dictionary = {}\n",
    "        self.patients_dictionary[\"age\"] = [int(age) for age in self.patients_ages]\n",
    "        self.patients_dictionary[\"sex\"] = self.patients_sexes\n",
    "        self.patients_dictionary[\"bmi\"] = self.patients_bmis\n",
    "        self.patients_dictionary[\"children\"] = self.patients_num_children\n",
    "        self.patients_dictionary[\"smoker\"] = self.patients_smoker_statuses\n",
    "        self.patients_dictionary[\"regions\"] = self.patients_regions\n",
    "        self.patients_dictionary[\"charges\"] = self.patients_charges\n",
    "        \n",
    "        return self.patients_dictionary"
   ]
  },
  {
   "cell_type": "markdown",
   "metadata": {},
   "source": [
    "Instantiate the class:"
   ]
  },
  {
   "cell_type": "code",
   "execution_count": 12,
   "metadata": {},
   "outputs": [
    {
     "data": {
      "text/plain": [
       "'In the sample of patient data, 51% of the patients are male and 49% of the patients are female. The average charge for men is $13957, for women it is $12570'"
      ]
     },
     "execution_count": 12,
     "metadata": {},
     "output_type": "execute_result"
    }
   ],
   "source": [
    "patients = patient_data(ages, sexes, bmis, children, smoker_status, regions, charges)\n",
    "patients.analyze_sexes()"
   ]
  },
  {
   "cell_type": "code",
   "execution_count": 29,
   "metadata": {},
   "outputs": [
    {
     "ename": "AttributeError",
     "evalue": "'patient_data' object has no attribute 'create_dictionary'",
     "output_type": "error",
     "traceback": [
      "\u001b[0;31m---------------------------------------------------------------------------\u001b[0m",
      "\u001b[0;31mAttributeError\u001b[0m                            Traceback (most recent call last)",
      "\u001b[0;32m<ipython-input-29-3392029252ae>\u001b[0m in \u001b[0;36m<module>\u001b[0;34m\u001b[0m\n\u001b[0;32m----> 1\u001b[0;31m \u001b[0mpatients\u001b[0m\u001b[0;34m.\u001b[0m\u001b[0mcreate_dictionary\u001b[0m\u001b[0;34m(\u001b[0m\u001b[0;34m)\u001b[0m\u001b[0;34m\u001b[0m\u001b[0;34m\u001b[0m\u001b[0m\n\u001b[0m",
      "\u001b[0;31mAttributeError\u001b[0m: 'patient_data' object has no attribute 'create_dictionary'"
     ]
    }
   ],
   "source": [
    "patients.create_dictionary()"
   ]
  }
 ],
 "metadata": {
  "kernelspec": {
   "display_name": "Python 3",
   "language": "python",
   "name": "python3"
  },
  "language_info": {
   "codemirror_mode": {
    "name": "ipython",
    "version": 3
   },
   "file_extension": ".py",
   "mimetype": "text/x-python",
   "name": "python",
   "nbconvert_exporter": "python",
   "pygments_lexer": "ipython3",
   "version": "3.8.5"
  }
 },
 "nbformat": 4,
 "nbformat_minor": 4
}
